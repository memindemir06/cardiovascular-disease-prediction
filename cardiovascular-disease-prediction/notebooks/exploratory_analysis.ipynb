# Import necessary libraries
import pandas as pd
import matplotlib.pyplot as plt
import seaborn as sns
from src import data_preprocessing, utils

# Load the raw data
raw_data = pd.read_csv('../data/raw/data.csv')

# Preprocess the data
processed_data = data_preprocessing.preprocess_data(raw_data)

# Display the first few rows of the data
print(processed_data.head())

# Perform some exploratory data analysis
# For example, we can plot the distribution of age in the dataset
plt.figure(figsize=(10, 6))
sns.histplot(data=processed_data, x='age', bins=30)
plt.title('Age Distribution')
plt.show()

# More exploratory analysis goes here...

# Save the processed data for further use
processed_data.to_csv('../data/processed/processed_data.csv', index=False)