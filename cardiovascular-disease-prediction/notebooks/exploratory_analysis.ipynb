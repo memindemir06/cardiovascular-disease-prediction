{
 "cells": [
  {
   "cell_type": "code",
   "execution_count": null,
   "metadata": {},
   "outputs": [],
   "source": [
    "# Import necessary libraries\n",
    "import pandas as pd\n",
    "import matplotlib.pyplot as plt\n",
    "import seaborn as sns\n",
    "import sys\n",
    "sys.path.append('..')\n",
    "# Load the raw data\n",
    "from src import data_preprocessing\n",
    "raw_data = pd.read_csv('../data/raw/cardio_train.csv')\n",
    "\n",
    "# Preprocess the data\n",
    "processed_data = data_preprocessing.preprocess_data(raw_data)\n",
    "\n",
    "# Display the first few rows of the data\n",
    "print(processed_data.head())\n",
    "\n",
    "# Perform some exploratory data analysis\n",
    "# For example, we can plot the distribution of age in the dataset\n",
    "plt.figure(figsize=(10, 6))\n",
    "sns.histplot(data=processed_data, x='age', bins=30)\n",
    "plt.title('Age Distribution')\n",
    "plt.show()\n",
    "\n",
    "# More exploratory analysis goes here...\n",
    "\n",
    "# Save the processed data for further use\n",
    "processed_data.to_csv('../data/processed/processed_data.csv', index=False)"
   ]
  }
 ],
 "metadata": {
  "kernelspec": {
   "display_name": "env",
   "language": "python",
   "name": "python3"
  },
  "language_info": {
   "codemirror_mode": {
    "name": "ipython",
    "version": 3
   },
   "file_extension": ".py",
   "mimetype": "text/x-python",
   "name": "python",
   "nbconvert_exporter": "python",
   "pygments_lexer": "ipython3",
   "version": "3.12.0"
  }
 },
 "nbformat": 4,
 "nbformat_minor": 2
}
